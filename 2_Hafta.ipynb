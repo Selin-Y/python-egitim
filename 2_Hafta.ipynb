{
  "cells": [
    {
      "cell_type": "markdown",
      "metadata": {
        "id": "lY_fh-b_SbIh"
      },
      "source": [
        "**Yıldız çizimleri**"
      ]
    },
    {
      "cell_type": "code",
      "execution_count": null,
      "metadata": {
        "colab": {
          "base_uri": "https://localhost:8080/"
        },
        "id": "anThI585SEr9",
        "outputId": "e1b9ff76-34f6-4ca8-e39f-eefaa5d1ea46"
      },
      "outputs": [
        {
          "name": "stdout",
          "output_type": "stream",
          "text": [
            "*\n",
            "**\n",
            "***\n",
            "****\n",
            "*****\n"
          ]
        }
      ],
      "source": [
        "rows = 5\n",
        "for i in range(0, rows):\n",
        "  for j in range(0, i+1):\n",
        "    print(\"*\", end=\"\")\n",
        "  print()\n"
      ]
    },
    {
      "cell_type": "code",
      "execution_count": null,
      "metadata": {
        "colab": {
          "base_uri": "https://localhost:8080/"
        },
        "id": "_DQZ09UKTiM8",
        "outputId": "516f2362-fa4d-482b-899a-f116b830abbe"
      },
      "outputs": [
        {
          "name": "stdout",
          "output_type": "stream",
          "text": [
            "*\n",
            "**\n",
            "***\n",
            "****\n",
            "*****\n"
          ]
        }
      ],
      "source": [
        "rows = 5\n",
        "for i in range(1, rows+1):\n",
        "  print(\"*\" * i)"
      ]
    },
    {
      "cell_type": "code",
      "execution_count": null,
      "metadata": {
        "colab": {
          "base_uri": "https://localhost:8080/"
        },
        "id": "aIzDDvqwUJ7B",
        "outputId": "8a1df588-4355-464d-cc2a-54fc3f9e1699"
      },
      "outputs": [
        {
          "name": "stdout",
          "output_type": "stream",
          "text": [
            "*****\n",
            "****\n",
            "***\n",
            "**\n",
            "*\n"
          ]
        }
      ],
      "source": [
        "rows = 5\n",
        "for i in range(rows, 0, -1):\n",
        "  for j in range(0, i):\n",
        "    print(\"*\", end=\"\")\n",
        "  print()"
      ]
    },
    {
      "cell_type": "code",
      "execution_count": null,
      "metadata": {
        "colab": {
          "base_uri": "https://localhost:8080/"
        },
        "id": "M9Rk_yuUUu-N",
        "outputId": "9815d7b1-fb8f-4f74-a329-c74bab16c247"
      },
      "outputs": [
        {
          "name": "stdout",
          "output_type": "stream",
          "text": [
            "*****\n",
            "****\n",
            "***\n",
            "**\n",
            "*\n"
          ]
        }
      ],
      "source": [
        "rows = 5\n",
        "for i in range(rows, 0, -1):\n",
        "  print(\"*\"*i)"
      ]
    },
    {
      "cell_type": "code",
      "execution_count": null,
      "metadata": {
        "colab": {
          "base_uri": "https://localhost:8080/"
        },
        "id": "F28BV9URVwBg",
        "outputId": "4c17cf7d-2a2e-436c-83ed-dc3846dacb9d"
      },
      "outputs": [
        {
          "name": "stdout",
          "output_type": "stream",
          "text": [
            "     *\n",
            "    **\n",
            "   ***\n",
            "  ****\n",
            " *****\n"
          ]
        }
      ],
      "source": [
        "rows = 5\n",
        "for i in range(0, rows):\n",
        "  for j in range(0, i+1):\n",
        "    if j == 0:\n",
        "      print(\" \"*(rows - i) + \"*\", end=\"\")\n",
        "    else: print(\"*\", end=\"\")\n",
        "  print()"
      ]
    },
    {
      "cell_type": "code",
      "execution_count": null,
      "metadata": {
        "colab": {
          "base_uri": "https://localhost:8080/"
        },
        "id": "O4-QFvQBZFto",
        "outputId": "039609cf-8e81-440f-88dc-9c89688d100b"
      },
      "outputs": [
        {
          "name": "stdout",
          "output_type": "stream",
          "text": [
            "    *\n",
            "   **\n",
            "  ***\n",
            " ****\n",
            "*****\n"
          ]
        }
      ],
      "source": [
        "rows = 5\n",
        "for i in range(1, rows + 1):\n",
        "  print(\" \"*(rows - i) + \"*\"*i)"
      ]
    },
    {
      "cell_type": "code",
      "execution_count": null,
      "metadata": {
        "colab": {
          "base_uri": "https://localhost:8080/"
        },
        "id": "Jkbr6cGYaNpV",
        "outputId": "e4e2b002-1f58-45ed-b36f-6858aa6dabc3"
      },
      "outputs": [
        {
          "name": "stdout",
          "output_type": "stream",
          "text": [
            "*****\n",
            " ****\n",
            "  ***\n",
            "   **\n",
            "    *\n"
          ]
        }
      ],
      "source": [
        "rows = 5\n",
        "for i in range(rows, 0, -1):#dikey\n",
        "  for j in range(0, i):#yatay\n",
        "    if j == 0:\n",
        "      print(\" \"*(rows-i) +\"*\", end=\"\")\n",
        "    else: print(\"*\", end=\"\")\n",
        "  print()"
      ]
    },
    {
      "cell_type": "code",
      "execution_count": null,
      "metadata": {
        "colab": {
          "base_uri": "https://localhost:8080/"
        },
        "id": "meVD3bIHeEsH",
        "outputId": "481028a0-035d-411c-d445-715e1a43f83e"
      },
      "outputs": [
        {
          "name": "stdout",
          "output_type": "stream",
          "text": [
            "*****\n",
            " ****\n",
            "  ***\n",
            "   **\n",
            "    *\n"
          ]
        }
      ],
      "source": [
        "rows = 5\n",
        "for i in range(rows, 0, -1):\n",
        "  print(\" \"*(rows - i) + \"*\"*i)"
      ]
    },
    {
      "cell_type": "code",
      "execution_count": null,
      "metadata": {
        "colab": {
          "base_uri": "https://localhost:8080/"
        },
        "id": "qc9oEJpigGH4",
        "outputId": "e9b8c856-e391-44ec-8a6c-6ae97d49c15b"
      },
      "outputs": [
        {
          "name": "stdout",
          "output_type": "stream",
          "text": [
            "    **\n",
            "   ****\n",
            "  ******\n",
            " ********\n",
            "**********\n"
          ]
        }
      ],
      "source": [
        "rows = 5\n",
        "for i in range(1, rows+1):\n",
        "  print(\" \"*(rows - i) + \"*\"*i*2) "
      ]
    },
    {
      "cell_type": "code",
      "execution_count": null,
      "metadata": {
        "colab": {
          "base_uri": "https://localhost:8080/"
        },
        "id": "s7Y1FdayqO5P",
        "outputId": "b00a641e-cde1-4722-ed0d-36f7397a115a"
      },
      "outputs": [
        {
          "name": "stdout",
          "output_type": "stream",
          "text": [
            "Lütfen bir sayı giriniz: 10\n",
            "Sayıların Toplamı:  55\n",
            "0 ile 10 arasındaki sayıların toplamı: 55\n"
          ]
        }
      ],
      "source": [
        "#Kullanıcıdan bir sayı alıp ardından 0 ile o değer arasındaki sayıların toplamını\n",
        "#ekrana basan bir kod blogu. Girilen değer dahil et işleme\n",
        "\n",
        "number = int(input(\"Lütfen bir sayı giriniz: \"))\n",
        "total = 0\n",
        "\n",
        "for i in range(number + 1):\n",
        "  total += i\n",
        "\n",
        "print(\"Sayıların Toplamı: \", total)\n",
        "print(\"0 ile {} arasındaki sayıların toplamı: {}\".format(number, total))"
      ]
    },
    {
      "cell_type": "code",
      "execution_count": null,
      "metadata": {
        "colab": {
          "base_uri": "https://localhost:8080/"
        },
        "id": "qHsM6jaDsqaC",
        "outputId": "25c2d41d-7938-4c3f-8d33-5105c1f6afed"
      },
      "outputs": [
        {
          "name": "stdout",
          "output_type": "stream",
          "text": [
            "Lütfen bir sayı giriniz: 10\n",
            "1\n",
            "2\n",
            "3\n",
            "4\n",
            "Continue\n",
            "6\n",
            "7\n",
            "8\n",
            "9\n",
            "Continue\n",
            "Sayıların Toplamı (5 e bölünenler hariç):  40\n",
            "0 ile 10 arasındaki sayıların toplamı: 40  (5 e bölünenler hariç)\n"
          ]
        }
      ],
      "source": [
        "#Toplama işlemi esnasında eğer o anki sayı \n",
        "#5 e tam bölünebilen bir sayıysa o değeri eklemeden işlemi yap\n",
        "#continue ifadesi kullanılacak\n",
        "\n",
        "number = int(input(\"Lütfen bir sayı giriniz: \"))\n",
        "total = 0\n",
        "\n",
        "for i in range(1, number+1):\n",
        "  if i % 5 != 0:\n",
        "    print(i)\n",
        "    total += i\n",
        "  else: #continue kullanımı olsun diye eklendi.\n",
        "    print(\"Continue\")\n",
        "    continue\n",
        "\n",
        "\n",
        "print(\"Sayıların Toplamı (5 e bölünenler hariç): \", total)\n",
        "print(\"0 ile {} arasındaki sayıların toplamı: {}  (5 e bölünenler hariç)\".format(number, total))"
      ]
    },
    {
      "cell_type": "code",
      "execution_count": null,
      "metadata": {
        "colab": {
          "base_uri": "https://localhost:8080/"
        },
        "id": "k7_fJDc8u1tF",
        "outputId": "dde0a03a-c605-433b-8ffe-27b60901abb8"
      },
      "outputs": [
        {
          "name": "stdout",
          "output_type": "stream",
          "text": [
            "Toplam basamak sayısı:  3\n"
          ]
        }
      ],
      "source": [
        "#Bir sayının kaç basamaklı olduğunu bulalım\n",
        "\n",
        "x = 23663724832894\n",
        "count = 0\n",
        "\n",
        "while x > 0:\n",
        "  x //= 10\n",
        "  count += 1\n",
        "\n",
        "print(\"Toplam basamak sayısı: \", count)\n",
        "\n",
        "# 1. x = 23\n",
        "# 2. x = 2\n",
        "# 3. x = 0"
      ]
    },
    {
      "cell_type": "code",
      "execution_count": null,
      "metadata": {
        "colab": {
          "base_uri": "https://localhost:8080/"
        },
        "id": "S3EFVu1ZxVkt",
        "outputId": "90d16e37-d646-402c-afe9-0884625d46b2"
      },
      "outputs": [
        {
          "name": "stdout",
          "output_type": "stream",
          "text": [
            "Bir sayı giriniz: 5\n",
            "5 4 3 2 1 \n",
            "4 3 2 1 \n",
            "3 2 1 \n",
            "2 1 \n",
            "1 \n"
          ]
        }
      ],
      "source": [
        "'''\n",
        "Kullanıcıdan bir değer alıp ardından hem alt alta hem yan yana yazdırın\n",
        "5 4 3 2 1\n",
        "4 3 2 1\n",
        "3 2 1\n",
        "2 1\n",
        "1\n",
        "'''\n",
        "\n",
        "a = int(input(\"Bir sayı giriniz: \"))\n",
        "\n",
        "for i in range(a, 0, -1):\n",
        "  for j in range(i, 0, -1):\n",
        "    print(j, end=\" \")\n",
        "  print()"
      ]
    },
    {
      "cell_type": "code",
      "execution_count": null,
      "metadata": {
        "colab": {
          "base_uri": "https://localhost:8080/"
        },
        "id": "Jk3RfsL3z4db",
        "outputId": "23c05fb0-b430-4791-c2ac-6278b8c3fadc"
      },
      "outputs": [
        {
          "name": "stdout",
          "output_type": "stream",
          "text": [
            "Bir sayı giriniz: 5\n",
            "5 4 3 2 1 \n",
            "4 3 2 1 \n",
            "3 2 1 \n",
            "2 1 \n",
            "1 \n",
            "\n"
          ]
        }
      ],
      "source": [
        "a = int(input(\"Bir sayı giriniz: \"))\n",
        "\n",
        "for i in range(0, a+1):\n",
        "  for j in range(a-i, 0, -1):\n",
        "    print(j, end=\" \")\n",
        "  print()"
      ]
    },
    {
      "cell_type": "code",
      "execution_count": null,
      "metadata": {
        "colab": {
          "base_uri": "https://localhost:8080/"
        },
        "id": "cpL_ik1u0d7p",
        "outputId": "9aaeda67-9e30-480a-a083-20edd2f10ace"
      },
      "outputs": [
        {
          "name": "stdout",
          "output_type": "stream",
          "text": [
            "1 ve 10 arasındaki asal sayılar \n",
            "2\n",
            "3\n",
            "5\n",
            "7\n"
          ]
        }
      ],
      "source": [
        "#Bir aralık belirleyip bu aralıktaki tüm asal sayıları ekrana basan kod blogunu yazalım\n",
        "\n",
        "start = 1\n",
        "end = 10\n",
        "print(\"{} ve {} arasındaki asal sayılar \".format(start, end))\n",
        "\n",
        "for i in range(start, end):\n",
        "  if i > 1:\n",
        "    asal = True\n",
        "\n",
        "    for j in range(2, i):\n",
        "      if i % j == 0:\n",
        "        asal = False\n",
        "        break\n",
        "        \n",
        "    if asal: # if asal == True\n",
        "      print(i)"
      ]
    },
    {
      "cell_type": "code",
      "execution_count": null,
      "metadata": {
        "colab": {
          "base_uri": "https://localhost:8080/"
        },
        "id": "f_cuqi9D30f6",
        "outputId": "97aaf650-d523-4b0e-efd1-c3976a9917a4"
      },
      "outputs": [
        {
          "name": "stdout",
          "output_type": "stream",
          "text": [
            "Bir değer giriniz: 5\n",
            "0 1 1 2 3 5 8 "
          ]
        }
      ],
      "source": [
        "#Girilen değere göre fibonacci seri hesaplaması yapalım\n",
        "# 0 1 1 2 3 5 8\n",
        "\n",
        "num1, num2 = 0, 1\n",
        "\n",
        "a = int(input(\"Bir değer giriniz: \"))\n",
        "for i in range(a + 2):\n",
        "  print(num1, end=\" \")\n",
        "  total = num1 + num2\n",
        "\n",
        "  num1 = num2\n",
        "  num2 = total"
      ]
    },
    {
      "cell_type": "code",
      "execution_count": null,
      "metadata": {
        "colab": {
          "base_uri": "https://localhost:8080/"
        },
        "id": "vq6WKvaw9e7l",
        "outputId": "78cdbc8c-4b5f-484b-eca3-3d0baa29cd56"
      },
      "outputs": [
        {
          "name": "stdout",
          "output_type": "stream",
          "text": [
            "Faktöriyel =  120\n"
          ]
        }
      ],
      "source": [
        "#Verilen sayının faktöriyelini hesaplayınız\n",
        "\n",
        "num = 5\n",
        "factorial = 1\n",
        "\n",
        "if num <= 1:\n",
        "  print(\"Faktöriyel = 1\")\n",
        "else:\n",
        "  for i in range(2, num +1):\n",
        "    factorial *= i\n",
        "  print(\"Faktöriyel = \", factorial)"
      ]
    },
    {
      "cell_type": "code",
      "execution_count": null,
      "metadata": {
        "colab": {
          "base_uri": "https://localhost:8080/"
        },
        "id": "UPQ1p0uq_9sU",
        "outputId": "5c6bd991-a1ea-496f-d05b-eb5a3e65d408"
      },
      "outputs": [
        {
          "name": "stdout",
          "output_type": "stream",
          "text": [
            "Girilen Değer: 23649328\n",
            "Temp 8 reverse 8 number 2364932 \n",
            "Temp 2 reverse 82 number 236493 \n",
            "Temp 3 reverse 823 number 23649 \n",
            "Temp 9 reverse 8239 number 2364 \n",
            "Temp 4 reverse 82394 number 236 \n",
            "Temp 6 reverse 823946 number 23 \n",
            "Temp 3 reverse 8239463 number 2 \n",
            "Temp 2 reverse 82394632 number 0 \n",
            "Ters çevrilmiş sayı: 82394632\n"
          ]
        }
      ],
      "source": [
        "#verilen bir tamsayıyı tersten yazın\n",
        "\n",
        "number = 23649328\n",
        "reverse = 0\n",
        "print(\"Girilen Değer:\", number)\n",
        "\n",
        "while number > 0:\n",
        "    temp = number % 10\n",
        "    reverse = (reverse * 10) + temp   \n",
        "    number //= 10 \n",
        "    print(\"Temp {} reverse {} number {} \".format(temp, reverse, number))\n",
        "    \n",
        "print(\"Ters çevrilmiş sayı:\", reverse)\n"
      ]
    }
  ],
  "metadata": {
    "colab": {
      "name": "2.Hafta.ipynb",
      "provenance": []
    },
    "kernelspec": {
      "display_name": "Python 3",
      "name": "python3"
    },
    "language_info": {
      "name": "python"
    }
  },
  "nbformat": 4,
  "nbformat_minor": 0
}
