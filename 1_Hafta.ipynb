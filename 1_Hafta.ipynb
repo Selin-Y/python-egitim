{
  "cells": [
    {
      "cell_type": "code",
      "execution_count": 4,
      "metadata": {
        "colab": {
          "base_uri": "https://localhost:8080/"
        },
        "id": "uS0mBTWkX7xq",
        "outputId": "58b6ac7a-6831-4deb-8a84-acd67d00d208"
      },
      "outputs": [
        {
          "name": "stdout",
          "output_type": "stream",
          "text": [
            "Hello World!\n"
          ]
        }
      ],
      "source": [
        "print(\"Hello World!\")"
      ]
    },
    {
      "cell_type": "markdown",
      "metadata": {
        "id": "1RecsXj7YO74"
      },
      "source": [
        "**Değişkenler**\n",
        "\n",
        "variable_name = variable_value"
      ]
    },
    {
      "cell_type": "code",
      "execution_count": null,
      "metadata": {
        "colab": {
          "base_uri": "https://localhost:8080/"
        },
        "id": "mowjR-nfY20d",
        "outputId": "a5577e2a-47f3-43d5-98fa-0f8fd4a52eca"
      },
      "outputs": [
        {
          "name": "stdout",
          "output_type": "stream",
          "text": [
            "Buket\n",
            "28\n",
            "19000.6\n"
          ]
        }
      ],
      "source": [
        "name = \"Buket\"\n",
        "age = 28\n",
        "salary = 19000.60\n",
        "\n",
        "print(name)\n",
        "print(age)\n",
        "print(salary)"
      ]
    },
    {
      "cell_type": "code",
      "execution_count": null,
      "metadata": {
        "id": "pJddi56VZQcL"
      },
      "outputs": [],
      "source": [
        "person_name = \"Aysel\""
      ]
    },
    {
      "cell_type": "markdown",
      "metadata": {
        "id": "wG4zA_8XZrHF"
      },
      "source": [
        "**Bir değişkenin değerini değiştirme**"
      ]
    },
    {
      "cell_type": "code",
      "execution_count": null,
      "metadata": {
        "colab": {
          "base_uri": "https://localhost:8080/"
        },
        "id": "7btVP7VcZpJA",
        "outputId": "01c79598-c288-4bf6-feff-c7b653d9f2a0"
      },
      "outputs": [
        {
          "name": "stdout",
          "output_type": "stream",
          "text": [
            "25\n"
          ]
        }
      ],
      "source": [
        "variable = 25\n",
        "print(variable)"
      ]
    },
    {
      "cell_type": "code",
      "execution_count": null,
      "metadata": {
        "colab": {
          "base_uri": "https://localhost:8080/"
        },
        "id": "NRKrTHfqZ6h1",
        "outputId": "54ce8c8e-9941-491e-af37-bda392ce63b3"
      },
      "outputs": [
        {
          "data": {
            "text/plain": [
              "int"
            ]
          },
          "execution_count": 5,
          "metadata": {},
          "output_type": "execute_result"
        }
      ],
      "source": [
        "type(variable)"
      ]
    },
    {
      "cell_type": "code",
      "execution_count": null,
      "metadata": {
        "colab": {
          "base_uri": "https://localhost:8080/"
        },
        "id": "2igU7r93aIC1",
        "outputId": "4a3fb7ac-1059-41b1-b454-0914de2fabf8"
      },
      "outputs": [
        {
          "name": "stdout",
          "output_type": "stream",
          "text": [
            "Merve\n"
          ]
        }
      ],
      "source": [
        "variable = \"Merve\"\n",
        "print(variable)"
      ]
    },
    {
      "cell_type": "code",
      "execution_count": null,
      "metadata": {
        "colab": {
          "base_uri": "https://localhost:8080/"
        },
        "id": "nta_kuJyaTQl",
        "outputId": "b59db4b0-0dc0-4ba6-f54a-8275dcdcf9c2"
      },
      "outputs": [
        {
          "data": {
            "text/plain": [
              "str"
            ]
          },
          "execution_count": 7,
          "metadata": {},
          "output_type": "execute_result"
        }
      ],
      "source": [
        "type(variable)"
      ]
    },
    {
      "cell_type": "code",
      "execution_count": null,
      "metadata": {
        "colab": {
          "base_uri": "https://localhost:8080/"
        },
        "id": "NEoPKn6SaX2J",
        "outputId": "b99b3bf1-8f9a-49ab-8692-c1e5bcb19a90"
      },
      "outputs": [
        {
          "name": "stdout",
          "output_type": "stream",
          "text": [
            "Aydin\n",
            "Aydin\n"
          ]
        }
      ],
      "source": [
        "name = \"Aysel\"\n",
        "Name = \"Aydin\"\n",
        "\n",
        "print(name)\n",
        "print(Name)"
      ]
    },
    {
      "cell_type": "markdown",
      "metadata": {
        "id": "MUDMjZ9wawFh"
      },
      "source": [
        "![keywords.png](data:image/png;base64,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)"
      ]
    },
    {
      "cell_type": "markdown",
      "metadata": {
        "id": "v9N081nvbFHk"
      },
      "source": [
        "**Veri Tipleri**\n",
        "*   Int\n",
        "*   Float\n",
        "*   String\n",
        "*   Boolean\n",
        "\n",
        "\n",
        "\n"
      ]
    },
    {
      "cell_type": "code",
      "execution_count": null,
      "metadata": {
        "colab": {
          "base_uri": "https://localhost:8080/"
        },
        "id": "ggnQ7AwgauaA",
        "outputId": "f7fae22d-fa04-443d-fd8e-321b7d6773ae"
      },
      "outputs": [
        {
          "data": {
            "text/plain": [
              "int"
            ]
          },
          "execution_count": 12,
          "metadata": {},
          "output_type": "execute_result"
        }
      ],
      "source": [
        "age = 30\n",
        "type(age)"
      ]
    },
    {
      "cell_type": "code",
      "execution_count": null,
      "metadata": {
        "colab": {
          "base_uri": "https://localhost:8080/"
        },
        "id": "o8R9hD-FbZON",
        "outputId": "cff76d5a-4dcf-465b-9b5e-6a6b9ca94c20"
      },
      "outputs": [
        {
          "data": {
            "text/plain": [
              "float"
            ]
          },
          "execution_count": 14,
          "metadata": {},
          "output_type": "execute_result"
        }
      ],
      "source": [
        "salary = 1000.40\n",
        "type(salary)"
      ]
    },
    {
      "cell_type": "code",
      "execution_count": null,
      "metadata": {
        "colab": {
          "base_uri": "https://localhost:8080/"
        },
        "id": "6Dz82xNJbg6_",
        "outputId": "01f85ca7-425f-4e5e-9031-160249ff4cce"
      },
      "outputs": [
        {
          "data": {
            "text/plain": [
              "bool"
            ]
          },
          "execution_count": 15,
          "metadata": {},
          "output_type": "execute_result"
        }
      ],
      "source": [
        "isNumber = False\n",
        "type(isNumber)"
      ]
    },
    {
      "cell_type": "code",
      "execution_count": null,
      "metadata": {
        "colab": {
          "base_uri": "https://localhost:8080/"
        },
        "id": "Z-OwassibrQ_",
        "outputId": "de9dcdd4-7304-4056-fd7b-784f283c050a"
      },
      "outputs": [
        {
          "name": "stdout",
          "output_type": "stream",
          "text": [
            "Merve\n"
          ]
        }
      ],
      "source": [
        "name = \"Merve\"\n",
        "print(name)"
      ]
    },
    {
      "cell_type": "code",
      "execution_count": null,
      "metadata": {
        "colab": {
          "base_uri": "https://localhost:8080/"
        },
        "id": "VaS3YYvLb44Z",
        "outputId": "f6a37d67-a018-4419-8c4f-a055521ee138"
      },
      "outputs": [
        {
          "name": "stdout",
          "output_type": "stream",
          "text": [
            "M\n"
          ]
        }
      ],
      "source": [
        "print(name[0])"
      ]
    },
    {
      "cell_type": "code",
      "execution_count": null,
      "metadata": {
        "colab": {
          "base_uri": "https://localhost:8080/"
        },
        "id": "3k5awtRdb_nk",
        "outputId": "375eda69-0cf6-4aea-d6b3-d2f316773c3c"
      },
      "outputs": [
        {
          "name": "stdout",
          "output_type": "stream",
          "text": [
            "er\n"
          ]
        }
      ],
      "source": [
        "print(name[1:3])"
      ]
    },
    {
      "cell_type": "code",
      "execution_count": null,
      "metadata": {
        "colab": {
          "base_uri": "https://localhost:8080/"
        },
        "id": "CQOlJO-VcmP5",
        "outputId": "c4863e7f-75ec-46df-ea7b-c6af42eb8a90"
      },
      "outputs": [
        {
          "name": "stdout",
          "output_type": "stream",
          "text": [
            "5\n"
          ]
        }
      ],
      "source": [
        "print(len(name))"
      ]
    },
    {
      "cell_type": "code",
      "execution_count": null,
      "metadata": {
        "colab": {
          "base_uri": "https://localhost:8080/"
        },
        "id": "z_RMkqu7cvTa",
        "outputId": "5225fbc3-6602-46ad-a8a3-646bc8c1467b"
      },
      "outputs": [
        {
          "name": "stdout",
          "output_type": "stream",
          "text": [
            "Merve Güngör\n"
          ]
        }
      ],
      "source": [
        "print(name + \" Güngör\")"
      ]
    },
    {
      "cell_type": "code",
      "execution_count": null,
      "metadata": {
        "colab": {
          "base_uri": "https://localhost:8080/"
        },
        "id": "KmSMtvWrc4iu",
        "outputId": "e75886fc-f9a5-4835-b810-765dfc5049f6"
      },
      "outputs": [
        {
          "name": "stdout",
          "output_type": "stream",
          "text": [
            "<class 'str'>\n"
          ]
        }
      ],
      "source": [
        "print(type(name))"
      ]
    },
    {
      "cell_type": "markdown",
      "metadata": {
        "id": "0G4xImIHdDpk"
      },
      "source": [
        "**Python'da Çoklu Atama İşlemleri**"
      ]
    },
    {
      "cell_type": "code",
      "execution_count": null,
      "metadata": {
        "colab": {
          "base_uri": "https://localhost:8080/"
        },
        "id": "uiaxd3jBdUPC",
        "outputId": "d51e5bdb-4d45-4236-8da3-960e3933433f"
      },
      "outputs": [
        {
          "name": "stdout",
          "output_type": "stream",
          "text": [
            "25\n"
          ]
        }
      ],
      "source": [
        "num1 = num2 = num3 = 25\n",
        "print(num2)"
      ]
    },
    {
      "cell_type": "code",
      "execution_count": null,
      "metadata": {
        "id": "vijbcnl9d-PM"
      },
      "outputs": [],
      "source": [
        "name = \"Buket\"\n",
        "age = 28\n",
        "salary = 19000.60"
      ]
    },
    {
      "cell_type": "code",
      "execution_count": null,
      "metadata": {
        "colab": {
          "base_uri": "https://localhost:8080/"
        },
        "id": "CQn46FzxeEaL",
        "outputId": "09743a90-dd00-4852-da2d-9d5752bae100"
      },
      "outputs": [
        {
          "name": "stdout",
          "output_type": "stream",
          "text": [
            "Buket\n",
            "28\n",
            "19000.5\n"
          ]
        }
      ],
      "source": [
        "name, age, salary = \"Buket\", 28, 19000.50\n",
        "\n",
        "print(name)\n",
        "print(age)\n",
        "print(salary)"
      ]
    },
    {
      "cell_type": "markdown",
      "metadata": {
        "id": "xJDbDHXLeqrP"
      },
      "source": [
        "**Değişkenlerde Kapsam**"
      ]
    },
    {
      "cell_type": "markdown",
      "metadata": {
        "id": "QMQt4mkpezvq"
      },
      "source": [
        "Yerel Değişken"
      ]
    },
    {
      "cell_type": "code",
      "execution_count": null,
      "metadata": {
        "id": "DOVHqzwle8nQ"
      },
      "outputs": [],
      "source": [
        "def getSalary1():\n",
        "  price = 500\n",
        "  print(\"Salary1 \", price)\n",
        "\n",
        "def getSalary2():\n",
        "  print(\"Salary2 \", price)\n",
        "\n",
        "getSalary1()\n",
        "getSalary2()"
      ]
    },
    {
      "cell_type": "markdown",
      "metadata": {
        "id": "f2tRtVLlfq9Y"
      },
      "source": [
        "**Global Değişken**"
      ]
    },
    {
      "cell_type": "code",
      "execution_count": null,
      "metadata": {
        "colab": {
          "base_uri": "https://localhost:8080/"
        },
        "id": "8ayPj_7hftST",
        "outputId": "9ac0ee00-a84c-4fb7-dd00-1f8d92b5f3a6"
      },
      "outputs": [
        {
          "name": "stdout",
          "output_type": "stream",
          "text": [
            "Salary1  500\n",
            "Salary2  500\n"
          ]
        }
      ],
      "source": [
        "price = 500\n",
        "def getSalary1():\n",
        "  print(\"Salary1 \", price)\n",
        "\n",
        "def getSalary2():\n",
        "  print(\"Salary2 \", price)\n",
        "\n",
        "getSalary1()\n",
        "getSalary2()"
      ]
    },
    {
      "cell_type": "markdown",
      "metadata": {
        "id": "GFRUg0uggN4S"
      },
      "source": [
        "İlk maaş bilgisini 600, ikinci maaş bilgisi 500"
      ]
    },
    {
      "cell_type": "code",
      "execution_count": null,
      "metadata": {
        "colab": {
          "base_uri": "https://localhost:8080/"
        },
        "id": "Iv0MoI3zgUiy",
        "outputId": "dbeedfe6-371c-4d4b-9e6d-6a5ce1c589fe"
      },
      "outputs": [
        {
          "name": "stdout",
          "output_type": "stream",
          "text": [
            "Salary1  600\n",
            "Salary2  500\n"
          ]
        }
      ],
      "source": [
        "price = 500\n",
        "def getSalary1():\n",
        "  price = 600\n",
        "  print(\"Salary1 \", price)\n",
        "\n",
        "def getSalary2():\n",
        "  print(\"Salary2 \", price)\n",
        "\n",
        "getSalary1()\n",
        "getSalary2()"
      ]
    },
    {
      "cell_type": "markdown",
      "metadata": {
        "id": "XVOxQtu_g3T8"
      },
      "source": [
        "Globalde tanımlanan price değerinin değiştirilmesi"
      ]
    },
    {
      "cell_type": "code",
      "execution_count": null,
      "metadata": {
        "colab": {
          "base_uri": "https://localhost:8080/"
        },
        "id": "3AYVkwB2g2Mg",
        "outputId": "85eb106c-b921-406a-8fcf-cebad62714f4"
      },
      "outputs": [
        {
          "name": "stdout",
          "output_type": "stream",
          "text": [
            "1  500\n",
            "600\n",
            "2  600\n",
            "600\n",
            "3  600\n"
          ]
        }
      ],
      "source": [
        "price = 500 #Global Değişken\n",
        "def getSalary1():\n",
        "  global price \n",
        "  price = 600 #Yerel Değişkenden Global Değişkene\n",
        "  print(price)\n",
        "\n",
        "def getSalary2():\n",
        "  print(price)\n",
        "\n",
        "print(\"1 \", price)\n",
        "getSalary1()\n",
        "print(\"2 \", price)\n",
        "getSalary2()\n",
        "print(\"3 \", price)"
      ]
    },
    {
      "cell_type": "markdown",
      "metadata": {
        "id": "1OKjAD4hjEAz"
      },
      "source": [
        "**Operatörler**\n",
        "\n",
        "Toplama\n",
        "\n",
        "Çıkarma\n",
        "\n",
        "Çarpma \n",
        "\n",
        "Bölme\n",
        "\n",
        "Int Bölme\n",
        "\n",
        "Mod\n",
        "\n",
        "Üst Alma"
      ]
    },
    {
      "cell_type": "code",
      "execution_count": null,
      "metadata": {
        "colab": {
          "base_uri": "https://localhost:8080/"
        },
        "id": "s-Ko5ChWjZXt",
        "outputId": "6038ec41-b4c8-4555-f6b9-b913285d0a2d"
      },
      "outputs": [
        {
          "name": "stdout",
          "output_type": "stream",
          "text": [
            "1+1   2\n",
            "6-1   5\n",
            "2*3   6\n",
            "6/3   2.0\n",
            "6//4  1\n",
            "int(6/3)   2\n",
            "6%2  2\n",
            "2**4  16\n"
          ]
        }
      ],
      "source": [
        "print(\"1+1  \", 1+1)\n",
        "print(\"6-1  \", 6-1)\n",
        "print(\"2*3  \", 2*3)\n",
        "\n",
        "print(\"6/3  \", 6/3) #Float bir dönüş\n",
        "print(\"6//4 \", 6//4) #Int bir dönüş\n",
        "print(\"int(6/3)  \", int(6/3)) #Int bir dönüş\n",
        "\n",
        "print(\"6%2 \", 6%4) #6'nın 4e bölümünden kalan değer\n",
        "print(\"2**4 \", 2**4)\n"
      ]
    },
    {
      "cell_type": "markdown",
      "metadata": {
        "id": "802J-fdVlfrm"
      },
      "source": [
        "**İlişkisel(karşılaştırma) operatörler**\n",
        "\n",
        "**>** Büyüktür\n",
        "\n",
        "<  Küçüktür\n",
        "\n",
        "<= Küçük Eşittir\n",
        "\n",
        "**>=**  Büyük Eşittir\n",
        "\n",
        "== Eşittir\n",
        "\n",
        "!= Eşit Değildir\n",
        "\n"
      ]
    },
    {
      "cell_type": "code",
      "execution_count": null,
      "metadata": {
        "colab": {
          "base_uri": "https://localhost:8080/"
        },
        "id": "J7cAo4mEl-cP",
        "outputId": "665f22e6-cb1b-4388-bbba-1a58b03f3810"
      },
      "outputs": [
        {
          "name": "stdout",
          "output_type": "stream",
          "text": [
            "True\n",
            "False\n",
            "False\n",
            "True\n",
            "False\n",
            "True\n"
          ]
        }
      ],
      "source": [
        "a = 10\n",
        "b = 7\n",
        "\n",
        "print(a > b)\n",
        "print(a < b)\n",
        "print(a <= b)\n",
        "print(a >= b)\n",
        "print(a == b)\n",
        "print(a != b)"
      ]
    },
    {
      "cell_type": "markdown",
      "metadata": {
        "id": "g_uPxjQjmucR"
      },
      "source": [
        "**Atama Operatörleri**\n",
        "\n",
        "=, +=, -=, /=, *=, //=\n"
      ]
    },
    {
      "cell_type": "code",
      "execution_count": null,
      "metadata": {
        "colab": {
          "base_uri": "https://localhost:8080/"
        },
        "id": "tcysfumcnJ2n",
        "outputId": "4548b4e6-d15c-42ca-adc4-eb6083744681"
      },
      "outputs": [
        {
          "name": "stdout",
          "output_type": "stream",
          "text": [
            "İlk değer  1\n",
            "Artırma  2\n",
            "Azaltma  1\n",
            "çarpma  2\n",
            "Bölme  1.0\n",
            "Int Bölme  1\n"
          ]
        }
      ],
      "source": [
        "x = 1\n",
        "print(\"İlk değer \", x)\n",
        "\n",
        "x += 1 #x = x + 1\n",
        "print(\"Artırma \", x)\n",
        "\n",
        "x -= 1 #x = x - 1\n",
        "print(\"Azaltma \", x)\n",
        "\n",
        "x *= 2 #x = x * 2\n",
        "print(\"çarpma \", x)\n",
        "\n",
        "x /= 2 #x = x / 2\n",
        "print(\"Bölme \", x)\n",
        "\n",
        "x = 2\n",
        "x //= 2 #x = x // 2\n",
        "print(\"Int Bölme \", x)"
      ]
    },
    {
      "cell_type": "markdown",
      "metadata": {
        "id": "AMUrTWFNJS5_"
      },
      "source": [
        "**Mantıksal Operatörler**\n",
        "\n",
        "or and"
      ]
    },
    {
      "cell_type": "markdown",
      "metadata": {
        "id": "z51k8g0ywSLw"
      },
      "source": [
        "**print() ve format()**"
      ]
    },
    {
      "cell_type": "code",
      "execution_count": null,
      "metadata": {
        "colab": {
          "base_uri": "https://localhost:8080/"
        },
        "id": "F0L94uifwjQf",
        "outputId": "ad888f8d-ea3c-4884-a644-e6966eb950a0"
      },
      "outputs": [
        {
          "name": "stdout",
          "output_type": "stream",
          "text": [
            "Adı:  Ebrar\n"
          ]
        }
      ],
      "source": [
        "name = \"Ebrar\"\n",
        "print(\"Adı: \", name)"
      ]
    },
    {
      "cell_type": "code",
      "execution_count": null,
      "metadata": {
        "colab": {
          "base_uri": "https://localhost:8080/"
        },
        "id": "CCUMrOE1wuRv",
        "outputId": "78c5493a-a155-4ab0-aa6d-c5d79c13c132"
      },
      "outputs": [
        {
          "name": "stdout",
          "output_type": "stream",
          "text": [
            "Adınızı Girin\n",
            "Aysel\n",
            "Girdiğiniz isim:  Aysel\n"
          ]
        }
      ],
      "source": [
        "print(\"Adınızı Girin\")\n",
        "\n",
        "name = input()\n",
        "print(\"Girdiğiniz isim: \", name)"
      ]
    },
    {
      "cell_type": "code",
      "execution_count": null,
      "metadata": {
        "colab": {
          "base_uri": "https://localhost:8080/"
        },
        "id": "W1SN5fhOxPq6",
        "outputId": "fad806c0-2b7c-42a6-8f53-4c971481abcf"
      },
      "outputs": [
        {
          "name": "stdout",
          "output_type": "stream",
          "text": [
            "Yaş Bilgisini Giriniz\n",
            "10\n",
            "Kullanıcının yaşı:  10\n"
          ]
        }
      ],
      "source": [
        "print(\"Yaş Bilgisini Giriniz\")\n",
        "\n",
        "age = int(input())\n",
        "print(\"Kullanıcının yaşı: \", age)"
      ]
    },
    {
      "cell_type": "code",
      "execution_count": null,
      "metadata": {
        "colab": {
          "base_uri": "https://localhost:8080/"
        },
        "id": "8I5X9qB3xdsD",
        "outputId": "5c7687b9-1d81-49bd-ec74-ea82997abe4a"
      },
      "outputs": [
        {
          "name": "stdout",
          "output_type": "stream",
          "text": [
            "Maaş Bilgisini giriniz\n",
            "323\n",
            "Kullanıcıya bu ay 323.0 lira yatacak\n"
          ]
        }
      ],
      "source": [
        "print(\"Maaş Bilgisini giriniz\")\n",
        "salary = float(input())\n",
        "\n",
        "print(\"Kullanıcıya bu ay {} lira yatacak\".format(salary))"
      ]
    },
    {
      "cell_type": "code",
      "execution_count": null,
      "metadata": {
        "colab": {
          "base_uri": "https://localhost:8080/"
        },
        "id": "1AaTlc-XyNpK",
        "outputId": "f28ab048-541a-4da7-db06-4789edb09718"
      },
      "outputs": [
        {
          "name": "stdout",
          "output_type": "stream",
          "text": [
            "Aysel kişisine bu ay 1300 lira yatacak.\n"
          ]
        }
      ],
      "source": [
        "name = \"Aysel\"\n",
        "salary = 1300\n",
        "\n",
        "print(\"{} kişisine bu ay {} lira yatacak.\".format(name, salary))"
      ]
    },
    {
      "cell_type": "markdown",
      "metadata": {
        "id": "azi5J1QHywWS"
      },
      "source": [
        "**Python Comments**\n",
        "\n",
        "#"
      ]
    },
    {
      "cell_type": "code",
      "execution_count": null,
      "metadata": {
        "colab": {
          "base_uri": "https://localhost:8080/"
        },
        "id": "3die0QCuyzEe",
        "outputId": "a670fff6-88ca-4d81-8eef-191fa76876c6"
      },
      "outputs": [
        {
          "name": "stdout",
          "output_type": "stream",
          "text": [
            "Selam\n"
          ]
        }
      ],
      "source": [
        "#print(\"Tek satırlı yorum ekleme\")\n",
        "print(\"Selam\")"
      ]
    },
    {
      "cell_type": "code",
      "execution_count": null,
      "metadata": {
        "colab": {
          "base_uri": "https://localhost:8080/"
        },
        "id": "sGxAEn-9zjvu",
        "outputId": "5b5ba217-57f3-4a8e-87c7-077d92d3c325"
      },
      "outputs": [
        {
          "name": "stdout",
          "output_type": "stream",
          "text": [
            "4. Selam\n"
          ]
        }
      ],
      "source": [
        "'''\n",
        "Çoklu satırda yorum ekleme\n",
        "print(\"1. selam\")\n",
        "print(\"2. Selam\")\n",
        "print(\"3. selam\")\n",
        "'''\n",
        "print(\"4. Selam\")"
      ]
    },
    {
      "cell_type": "code",
      "execution_count": null,
      "metadata": {
        "colab": {
          "base_uri": "https://localhost:8080/"
        },
        "id": "cEmBPTGxz6GS",
        "outputId": "e61a4b5e-64f8-4488-fb30-bf6ef0e53951"
      },
      "outputs": [
        {
          "name": "stdout",
          "output_type": "stream",
          "text": [
            "helloooo\n",
            "World\n"
          ]
        }
      ],
      "source": [
        "print(\"helloooo\") # Bu kod satırı ekrana bir text basar\n",
        "\n",
        "# Bu kod satırı ekrana bir text basar\n",
        "print(\"World\")"
      ]
    },
    {
      "cell_type": "markdown",
      "metadata": {
        "id": "2DBQrfFq0QWw"
      },
      "source": [
        "**Tip Dönüşümü**"
      ]
    },
    {
      "cell_type": "code",
      "execution_count": null,
      "metadata": {
        "colab": {
          "base_uri": "https://localhost:8080/"
        },
        "id": "JR5VBKM70hRu",
        "outputId": "d9e566af-3881-4cc6-f92b-39d17b0d3735"
      },
      "outputs": [
        {
          "name": "stdout",
          "output_type": "stream",
          "text": [
            "9\n",
            "Python\n",
            "100.4\n"
          ]
        }
      ],
      "source": [
        "number = 9\n",
        "language = \"Python\"\n",
        "result = 100.40\n",
        "\n",
        "print(number)\n",
        "print(language)\n",
        "print(result)\n"
      ]
    },
    {
      "cell_type": "code",
      "execution_count": null,
      "metadata": {
        "colab": {
          "base_uri": "https://localhost:8080/"
        },
        "id": "2pnUCVmp08GF",
        "outputId": "7f6c9cfb-5c83-41e0-ce1a-12b6640c6531"
      },
      "outputs": [
        {
          "name": "stdout",
          "output_type": "stream",
          "text": [
            "9.0\n"
          ]
        }
      ],
      "source": [
        "print(float(number)) #int -> float"
      ]
    },
    {
      "cell_type": "code",
      "execution_count": null,
      "metadata": {
        "colab": {
          "base_uri": "https://localhost:8080/"
        },
        "id": "U9H-JVED1Btx",
        "outputId": "5ba1aa0d-c85b-4a8e-ddb0-3362c2dcd763"
      },
      "outputs": [
        {
          "name": "stdout",
          "output_type": "stream",
          "text": [
            "100\n"
          ]
        }
      ],
      "source": [
        "print(int(result)) #float -> int"
      ]
    },
    {
      "cell_type": "code",
      "execution_count": null,
      "metadata": {
        "colab": {
          "base_uri": "https://localhost:8080/"
        },
        "id": "xx-lJqY11RAL",
        "outputId": "23b67389-0ded-47d3-b069-e8cb08dded71"
      },
      "outputs": [
        {
          "name": "stdout",
          "output_type": "stream",
          "text": [
            "75\n"
          ]
        }
      ],
      "source": [
        "print(int(\"75\"))"
      ]
    },
    {
      "cell_type": "code",
      "execution_count": null,
      "metadata": {
        "colab": {
          "base_uri": "https://localhost:8080/",
          "height": 169
        },
        "id": "672aJSwF1XLB",
        "outputId": "8298e97c-2907-403c-99e5-00d8a88d5af4"
      },
      "outputs": [
        {
          "ename": "ValueError",
          "evalue": "ignored",
          "output_type": "error",
          "traceback": [
            "\u001b[0;31m---------------------------------------------------------------------------\u001b[0m",
            "\u001b[0;31mValueError\u001b[0m                                Traceback (most recent call last)",
            "\u001b[0;32m<ipython-input-83-75c0aeccd603>\u001b[0m in \u001b[0;36m<module>\u001b[0;34m()\u001b[0m\n\u001b[0;32m----> 1\u001b[0;31m \u001b[0mprint\u001b[0m\u001b[0;34m(\u001b[0m\u001b[0mint\u001b[0m\u001b[0;34m(\u001b[0m\u001b[0;34m\"yetmiş\"\u001b[0m\u001b[0;34m)\u001b[0m\u001b[0;34m)\u001b[0m\u001b[0;34m\u001b[0m\u001b[0;34m\u001b[0m\u001b[0m\n\u001b[0m",
            "\u001b[0;31mValueError\u001b[0m: invalid literal for int() with base 10: 'yetmiş'"
          ]
        }
      ],
      "source": [
        "print(int(\"yetmiş\"))"
      ]
    },
    {
      "cell_type": "code",
      "execution_count": null,
      "metadata": {
        "colab": {
          "base_uri": "https://localhost:8080/"
        },
        "id": "tPWRNPMN1fop",
        "outputId": "44bb7c6c-6d70-4db2-ec62-1295e5c51d0b"
      },
      "outputs": [
        {
          "name": "stdout",
          "output_type": "stream",
          "text": [
            "1\n"
          ]
        }
      ],
      "source": [
        "print(int(True))"
      ]
    },
    {
      "cell_type": "code",
      "execution_count": null,
      "metadata": {
        "colab": {
          "base_uri": "https://localhost:8080/"
        },
        "id": "zEJi_3vK1oCw",
        "outputId": "bfc1245b-9b8a-4468-eb20-ac0be87d07b1"
      },
      "outputs": [
        {
          "name": "stdout",
          "output_type": "stream",
          "text": [
            "0\n"
          ]
        }
      ],
      "source": [
        "print(int(False))"
      ]
    },
    {
      "cell_type": "code",
      "execution_count": null,
      "metadata": {
        "colab": {
          "base_uri": "https://localhost:8080/"
        },
        "id": "_966GiMp1q4I",
        "outputId": "d1be1c3f-4c89-4740-8dfb-de3aeb3f18e5"
      },
      "outputs": [
        {
          "name": "stdout",
          "output_type": "stream",
          "text": [
            "True\n"
          ]
        }
      ],
      "source": [
        "print(bool(1))"
      ]
    },
    {
      "cell_type": "code",
      "execution_count": null,
      "metadata": {
        "colab": {
          "base_uri": "https://localhost:8080/"
        },
        "id": "OHbsaRq41wfG",
        "outputId": "132f6439-afd8-4e89-c793-206bf8eeda5a"
      },
      "outputs": [
        {
          "name": "stdout",
          "output_type": "stream",
          "text": [
            "False\n"
          ]
        }
      ],
      "source": [
        "print(bool(0))"
      ]
    },
    {
      "cell_type": "code",
      "execution_count": null,
      "metadata": {
        "colab": {
          "base_uri": "https://localhost:8080/"
        },
        "id": "5MKwbXGc14oT",
        "outputId": "cdd31a20-3624-41c8-e3f5-825b53b1efdc"
      },
      "outputs": [
        {
          "name": "stdout",
          "output_type": "stream",
          "text": [
            "True\n"
          ]
        }
      ],
      "source": [
        "print(bool(-5))"
      ]
    },
    {
      "cell_type": "code",
      "execution_count": null,
      "metadata": {
        "colab": {
          "base_uri": "https://localhost:8080/"
        },
        "id": "F-jhAi_o2Dwl",
        "outputId": "63f23064-4863-44f8-9123-825d488511e5"
      },
      "outputs": [
        {
          "name": "stdout",
          "output_type": "stream",
          "text": [
            "True\n"
          ]
        }
      ],
      "source": [
        "print(bool(3.16789))"
      ]
    },
    {
      "cell_type": "markdown",
      "metadata": {
        "id": "uxohJo8P2Nj4"
      },
      "source": [
        "**Karar Yapıları**\n",
        "\n",
        "**>** Büyüktür\n",
        "\n",
        "< Küçüktür\n",
        "\n",
        "<= Küçük Eşittir\n",
        "\n",
        "**>=** Büyük Eşittir\n",
        "\n",
        "== Eşittir\n",
        "\n",
        "!= Eşit Değildir"
      ]
    },
    {
      "cell_type": "code",
      "execution_count": null,
      "metadata": {
        "colab": {
          "base_uri": "https://localhost:8080/"
        },
        "id": "coYCtHL52fu1",
        "outputId": "f7ab4453-f4b8-4aca-e0ef-5ccd1c96c3af"
      },
      "outputs": [
        {
          "name": "stdout",
          "output_type": "stream",
          "text": [
            "y x ten büyüktür.\n"
          ]
        }
      ],
      "source": [
        "x = 67\n",
        "y = 106\n",
        "\n",
        "if y > x:\n",
        "  print(\"y x ten büyüktür.\")  "
      ]
    },
    {
      "cell_type": "code",
      "execution_count": null,
      "metadata": {
        "colab": {
          "base_uri": "https://localhost:8080/"
        },
        "id": "T-6jb1ht3GMq",
        "outputId": "31da5acd-87cd-4fca-bd5e-af424457f910"
      },
      "outputs": [
        {
          "name": "stdout",
          "output_type": "stream",
          "text": [
            "a b'ye eşittir\n"
          ]
        }
      ],
      "source": [
        "a = 28\n",
        "b = 28\n",
        "\n",
        "if b > a:\n",
        "  print(\"b a'dan büyüktür\")\n",
        "elif a == b:\n",
        "  print(\"a b'ye eşittir\")"
      ]
    },
    {
      "cell_type": "code",
      "execution_count": null,
      "metadata": {
        "colab": {
          "base_uri": "https://localhost:8080/"
        },
        "id": "P1dhUFvc3rgD",
        "outputId": "4a3591e5-5b89-42be-8503-63265508fa18"
      },
      "outputs": [
        {
          "name": "stdout",
          "output_type": "stream",
          "text": [
            "a b'den büyüktür\n"
          ]
        }
      ],
      "source": [
        "a = 340\n",
        "b = 232\n",
        "\n",
        "if b > a:\n",
        "  print(\"b a'dan büyüktür\")\n",
        "elif a == b:\n",
        "  print(\"b a'ya eşittir\")\n",
        "  print(\"Selam\")\n",
        "else:\n",
        "  print(\"a b'den büyüktür\")"
      ]
    },
    {
      "cell_type": "markdown",
      "metadata": {
        "id": "rma_0qhN4nj_"
      },
      "source": [
        "**İç içe kontrol yapıları**"
      ]
    },
    {
      "cell_type": "code",
      "execution_count": null,
      "metadata": {
        "colab": {
          "base_uri": "https://localhost:8080/"
        },
        "id": "S_xsDbPM4m-B",
        "outputId": "310cc064-62ff-41a4-a57c-e77e5d05ff2d"
      },
      "outputs": [
        {
          "name": "stdout",
          "output_type": "stream",
          "text": [
            "İlk sayıyı giriniz 67\n",
            "İkinci sayıyı giriniz 89\n",
            "67 değeri 89 değerinden küçüktür\n"
          ]
        }
      ],
      "source": [
        "num1 = int(input(\"İlk sayıyı giriniz \"))\n",
        "num2 = int(input(\"İkinci sayıyı giriniz \"))\n",
        "\n",
        "if num1 >= num2:\n",
        "  if num1 == num2:\n",
        "    print(num1, ' ve ', num2, ' eşittir')\n",
        "  else:\n",
        "    print('{} değeri {} değerinden büyüktür'.format(num1, num2))\n",
        "else:\n",
        "  print('{} değeri {} değerinden küçüktür'.format(num1, num2))"
      ]
    },
    {
      "cell_type": "code",
      "execution_count": null,
      "metadata": {
        "colab": {
          "base_uri": "https://localhost:8080/"
        },
        "id": "qzNTLzcl6A2c",
        "outputId": "0215a17a-00a5-450a-d17e-c3351e8d30a1"
      },
      "outputs": [
        {
          "name": "stdout",
          "output_type": "stream",
          "text": [
            "Negatif sayıdır\n"
          ]
        }
      ],
      "source": [
        "number = -3\n",
        "if number > 0: print(\"Pozitif sayıdır\")\n",
        "else: print(\"Negatif sayıdır\")"
      ]
    },
    {
      "cell_type": "code",
      "execution_count": null,
      "metadata": {
        "colab": {
          "base_uri": "https://localhost:8080/"
        },
        "id": "4gcWZHEB6Vlc",
        "outputId": "ae9cceba-e855-48ed-b9f9-0b81ca1ac164"
      },
      "outputs": [
        {
          "name": "stdout",
          "output_type": "stream",
          "text": [
            "Negatif sayıdır\n"
          ]
        }
      ],
      "source": [
        "number = -3\n",
        "if number > 0: \n",
        "  print(\"Pozitif sayıdır\")\n",
        "else: \n",
        "  print(\"Negatif sayıdır\")"
      ]
    },
    {
      "cell_type": "code",
      "execution_count": null,
      "metadata": {
        "colab": {
          "base_uri": "https://localhost:8080/"
        },
        "id": "M_Nn1j679ncX",
        "outputId": "88e59b38-6e92-487c-9662-421f0bf8ceb6"
      },
      "outputs": [
        {
          "name": "stdout",
          "output_type": "stream",
          "text": [
            "Tahmin edilen değer 100\n",
            "Tahmin edilen değer büyük\n"
          ]
        }
      ],
      "source": [
        "x = 10\n",
        "y = int(input(\"Tahmin edilen değer \"))\n",
        "\n",
        "if x == y:\n",
        "  print(\"harikasın! İlk denemede buldun\")\n",
        "elif x < y:\n",
        "  print(\"Tahmin edilen değer büyük\")\n",
        "else:\n",
        "  print(\"Tahmin edilen değer küçük\")"
      ]
    },
    {
      "cell_type": "markdown",
      "metadata": {
        "id": "xsGrO3IB-lwI"
      },
      "source": [
        "**Döngüler**\n",
        "\n",
        "range(başlangıç değeri, bitiş değeri, değişim miktarı)\n",
        "\n",
        "range(bitiş değeri) -> değişim miktarı 1 1 artar\n",
        "başlangıç değeri -> 0'dan başlar."
      ]
    },
    {
      "cell_type": "code",
      "execution_count": null,
      "metadata": {
        "colab": {
          "base_uri": "https://localhost:8080/"
        },
        "id": "pjVuAI_Q-8vL",
        "outputId": "72ce7931-1fe3-4dcd-d470-0bd54f1d6a26"
      },
      "outputs": [
        {
          "data": {
            "text/plain": [
              "range(0, 5)"
            ]
          },
          "execution_count": 102,
          "metadata": {},
          "output_type": "execute_result"
        }
      ],
      "source": [
        "range(5)"
      ]
    },
    {
      "cell_type": "code",
      "execution_count": null,
      "metadata": {
        "id": "vnJTswj3_Iwp"
      },
      "outputs": [],
      "source": [
        "range(2, 10, 2)"
      ]
    },
    {
      "cell_type": "code",
      "execution_count": null,
      "metadata": {
        "id": "ihi7hwDa_Pwr"
      },
      "outputs": [],
      "source": [
        "range(20, 2, -2)"
      ]
    },
    {
      "cell_type": "markdown",
      "metadata": {
        "id": "3eEyK66j_c4p"
      },
      "source": [
        "for item in loop:\n",
        "\n",
        "  print(item)"
      ]
    },
    {
      "cell_type": "code",
      "execution_count": null,
      "metadata": {
        "colab": {
          "base_uri": "https://localhost:8080/"
        },
        "id": "y6k1Kp5n_ZtC",
        "outputId": "d1f6dafa-93b9-41a4-b038-08815dfcc1a0"
      },
      "outputs": [
        {
          "name": "stdout",
          "output_type": "stream",
          "text": [
            "0\n",
            "1\n",
            "2\n",
            "3\n",
            "4\n"
          ]
        }
      ],
      "source": [
        "for item in range(5):\n",
        "  print(item)"
      ]
    },
    {
      "cell_type": "code",
      "execution_count": null,
      "metadata": {
        "colab": {
          "base_uri": "https://localhost:8080/"
        },
        "id": "X9QgH990_7wp",
        "outputId": "3205f5a9-1ee6-492c-9330-db2c811c9983"
      },
      "outputs": [
        {
          "name": "stdout",
          "output_type": "stream",
          "text": [
            "4\n",
            "5\n",
            "6\n",
            "7\n",
            "8\n",
            "9\n"
          ]
        }
      ],
      "source": [
        "for i in range(4,10):\n",
        "  print(i)"
      ]
    },
    {
      "cell_type": "code",
      "execution_count": null,
      "metadata": {
        "colab": {
          "base_uri": "https://localhost:8080/"
        },
        "id": "lJO7lQgYAMXW",
        "outputId": "39c08b25-f3a6-403d-b01a-c8eaa835de69"
      },
      "outputs": [
        {
          "name": "stdout",
          "output_type": "stream",
          "text": [
            "20\n",
            "18\n",
            "16\n",
            "14\n",
            "12\n",
            "10\n",
            "8\n",
            "6\n",
            "4\n",
            "2\n"
          ]
        }
      ],
      "source": [
        "for x in range(20, 1, -2):\n",
        "  print(x)"
      ]
    },
    {
      "cell_type": "markdown",
      "metadata": {
        "id": "CSCJY8VuAg9H"
      },
      "source": [
        "**Break**"
      ]
    },
    {
      "cell_type": "code",
      "execution_count": null,
      "metadata": {
        "colab": {
          "base_uri": "https://localhost:8080/"
        },
        "id": "5YRF2rEFAjEj",
        "outputId": "2986b02f-921f-4fb4-ad29-e8334df4471b"
      },
      "outputs": [
        {
          "name": "stdout",
          "output_type": "stream",
          "text": [
            "7\n",
            "8\n",
            "9\n",
            "10\n",
            "11\n",
            "Break\n"
          ]
        }
      ],
      "source": [
        "for i in range(7, 16):\n",
        "  if i >= 12:\n",
        "    print(\"Break\")\n",
        "    break\n",
        "  else:\n",
        "    print(i)"
      ]
    },
    {
      "cell_type": "code",
      "execution_count": null,
      "metadata": {
        "colab": {
          "base_uri": "https://localhost:8080/"
        },
        "id": "t5Jf5yPlBZ0n",
        "outputId": "67308baf-0425-44dc-8a89-80e694e6b915"
      },
      "outputs": [
        {
          "name": "stdout",
          "output_type": "stream",
          "text": [
            "7\n",
            "8\n",
            "9\n",
            "10\n",
            "11\n",
            "Break\n"
          ]
        }
      ],
      "source": [
        "for i in range(7, 16):\n",
        "  if i >= 12:\n",
        "    print(\"Break\")\n",
        "    break\n",
        "  print(i)"
      ]
    },
    {
      "cell_type": "markdown",
      "metadata": {
        "id": "ufW3vMfiCKHt"
      },
      "source": [
        "**Continue**"
      ]
    },
    {
      "cell_type": "code",
      "execution_count": null,
      "metadata": {
        "colab": {
          "base_uri": "https://localhost:8080/"
        },
        "id": "NtvcxUz3CPK5",
        "outputId": "cc833431-b627-45a9-cb24-9b8e2502e2cf"
      },
      "outputs": [
        {
          "name": "stdout",
          "output_type": "stream",
          "text": [
            "3\n",
            "5\n",
            "Continue\n",
            "9\n"
          ]
        }
      ],
      "source": [
        "for i in range(3, 10, 2):\n",
        "  if i == 7:\n",
        "    print(\"Continue\")\n",
        "    continue\n",
        "  print(i)"
      ]
    },
    {
      "cell_type": "markdown",
      "metadata": {
        "id": "YiOImjx1CscN"
      },
      "source": [
        "**While Döngüsü**\n",
        "\n",
        "Koşul doğru olduğu sürece işlemlerin tekrarlanmasını sağlar."
      ]
    },
    {
      "cell_type": "code",
      "execution_count": null,
      "metadata": {
        "colab": {
          "base_uri": "https://localhost:8080/"
        },
        "id": "CdrapaovC6CM",
        "outputId": "3f3948d1-c55a-4a50-8c85-7cad7384bf6f"
      },
      "outputs": [
        {
          "name": "stdout",
          "output_type": "stream",
          "text": [
            "1\n",
            "2\n",
            "3\n",
            "4\n",
            "5\n"
          ]
        }
      ],
      "source": [
        "count = 1\n",
        "while count < 6:\n",
        "  print(count)\n",
        "  count += 1"
      ]
    },
    {
      "cell_type": "code",
      "execution_count": null,
      "metadata": {
        "colab": {
          "base_uri": "https://localhost:8080/"
        },
        "id": "WE2-F5XiDfpw",
        "outputId": "9570c205-044a-4f92-8429-e57ec1836ac0"
      },
      "outputs": [
        {
          "name": "stdout",
          "output_type": "stream",
          "text": [
            "10 ile 20 arasında bir sayı giriniz: 14\n",
            "Doğru aralıkta girilen değerimiz:  14\n"
          ]
        }
      ],
      "source": [
        "number = int(input(\"10 ile 20 arasında bir sayı giriniz: \"))\n",
        "\n",
        "while number > 20 or number < 10:\n",
        "  print(\"İstenen değer aralığında bir değer girmediniz.\")\n",
        "  number = int(input(\"Lütfen 10 ile 20 arasında bir sayı giriniz: \"))\n",
        "else: print(\"Doğru aralıkta girilen değerimiz: \", number)"
      ]
    },
    {
      "cell_type": "code",
      "execution_count": null,
      "metadata": {
        "colab": {
          "base_uri": "https://localhost:8080/"
        },
        "id": "LKbtlcJDEe87",
        "outputId": "f60de562-1eef-4e74-e243-11e6042b5456"
      },
      "outputs": [
        {
          "name": "stdout",
          "output_type": "stream",
          "text": [
            "Hellooo\n",
            "Hellooo\n",
            "Hellooo\n",
            "Hellooo\n",
            "Hellooo\n"
          ]
        }
      ],
      "source": [
        "count = 1\n",
        "while count < 6:\n",
        "  print(\"Hellooo\")\n",
        "  count += 1"
      ]
    },
    {
      "cell_type": "markdown",
      "metadata": {
        "id": "sLuMVN2cFOop"
      },
      "source": [
        "**İç içe kullanılan döngüler**"
      ]
    },
    {
      "cell_type": "code",
      "execution_count": null,
      "metadata": {
        "colab": {
          "base_uri": "https://localhost:8080/"
        },
        "id": "CXTGXJyBFeeA",
        "outputId": "94c26d40-58f2-48af-fb18-93efbdd23961"
      },
      "outputs": [
        {
          "name": "stdout",
          "output_type": "stream",
          "text": [
            "* \n",
            "* * \n",
            "* * * \n",
            "* * * * \n",
            "* * * * * \n"
          ]
        }
      ],
      "source": [
        "rows = 5\n",
        "for i in range(1, rows + 1):\n",
        "  for j in range(1, i + 1):\n",
        "    print(\"*\", end=\" \")\n",
        "  print()"
      ]
    },
    {
      "cell_type": "code",
      "execution_count": null,
      "metadata": {
        "colab": {
          "base_uri": "https://localhost:8080/"
        },
        "id": "U7qV0DBeGEP4",
        "outputId": "7391b958-a66b-4802-8d78-0ab295fe2257"
      },
      "outputs": [
        {
          "name": "stdout",
          "output_type": "stream",
          "text": [
            "0 1 2 3 4 "
          ]
        }
      ],
      "source": [
        "for item in range(5):\n",
        "  print(str(item), end=\" \") #yan yana yazmayı sağlar "
      ]
    }
  ],
  "metadata": {
    "colab": {
      "name": "1.Hafta.ipynb",
      "provenance": []
    },
    "interpreter": {
      "hash": "85849ef95885899d47daeff0f578b9f8af82a26ba4d539bff16a3c227f835db9"
    },
    "kernelspec": {
      "display_name": "Python 3.8.5 ('base')",
      "language": "python",
      "name": "python3"
    },
    "language_info": {
      "codemirror_mode": {
        "name": "ipython",
        "version": 3
      },
      "file_extension": ".py",
      "mimetype": "text/x-python",
      "name": "python",
      "nbconvert_exporter": "python",
      "pygments_lexer": "ipython3",
      "version": "3.8.5"
    }
  },
  "nbformat": 4,
  "nbformat_minor": 0
}
